{
 "cells": [
  {
   "cell_type": "markdown",
   "id": "f5fb8758",
   "metadata": {},
   "source": [
    "\n",
    "# Few-Shot Prompting — MVP (Sentiment Classification)\n",
    "\n",
    "**Goal:** Provide a few labeled examples to guide the model.  \n",
    "Assumes `OPENAI_API_KEY` is set.\n"
   ]
  },
  {
   "cell_type": "code",
   "execution_count": 23,
   "id": "23639e24",
   "metadata": {},
   "outputs": [],
   "source": [
    "from langchain_openai import ChatOpenAI\n",
    "from langchain_core.prompts import PromptTemplate, FewShotPromptTemplate\n",
    "import json"
   ]
  },
  {
   "cell_type": "code",
   "execution_count": 25,
   "id": "363d333f",
   "metadata": {},
   "outputs": [
    {
     "name": "stdout",
     "output_type": "stream",
     "text": [
      "You are a concise sentiment analyst.\n",
      "Decide whether the sentiment is \"Positive\" or \"Negative\".\n",
      "Respond only with JSON: {\"label\":\"...\",\"rationale\":\"...\"}.\n",
      "\n",
      "Here are examples:\n",
      "Input: I love the new update!\n",
      "Output: {\"label\":\"Positive\",\"rationale\":\"Expresses approval\"}\n",
      "---\n",
      "Input: This is a terrible experience.\n",
      "Output: {\"label\":\"Negative\",\"rationale\":\"States terrible\"}\n",
      "---\n",
      "Input: Not bad for a budget phone.\n",
      "Output: {\"label\":\"Positive\",\"rationale\":\"Negation implies acceptable\"}\n",
      "---\n",
      "Now classify the sentiment for the following input.\n",
      "Input: Dancing in the rain is fun!\n",
      "Output:\n"
     ]
    }
   ],
   "source": [
    "# Manually write out the prompt string with the examples and use PromptTemplate\n",
    "\n",
    "manual_prompt_str = \"\"\"You are a concise sentiment analyst.\n",
    "Decide whether the sentiment is \"Positive\" or \"Negative\".\n",
    "Respond only with JSON: {{\"label\":\"...\",\"rationale\":\"...\"}}.\n",
    "\n",
    "Here are examples:\n",
    "Input: I love the new update!\n",
    "Output: {{\"label\":\"Positive\",\"rationale\":\"Expresses approval\"}}\n",
    "---\n",
    "Input: This is a terrible experience.\n",
    "Output: {{\"label\":\"Negative\",\"rationale\":\"States terrible\"}}\n",
    "---\n",
    "Input: Not bad for a budget phone.\n",
    "Output: {{\"label\":\"Positive\",\"rationale\":\"Negation implies acceptable\"}}\n",
    "---\n",
    "Now classify the sentiment for the following input.\n",
    "Input: {user_text}\n",
    "Output:\"\"\"\n",
    "\n",
    "manual_prompt = PromptTemplate.from_template(manual_prompt_str)\n",
    "\n",
    "# Example usage:\n",
    "print(manual_prompt.invoke({\"user_text\": \"Dancing in the rain is fun!\"}).text)\n",
    "\n"
   ]
  },
  {
   "cell_type": "code",
   "execution_count": null,
   "id": "60dd2fba",
   "metadata": {},
   "outputs": [],
   "source": [
    "\n",
    "llm = ChatOpenAI(model=\"gpt-4o-mini\", temperature=0.0)\n",
    "\n",
    "example_prompt = PromptTemplate.from_template(\n",
    "    \"\"\"Input: {text}\n",
    "Output: {output_json}\"\"\")\n",
    "\n",
    "examples = [\n",
    "    {\"text\": \"I love the new update!\", \"output_json\": '{{\"label\":\"Positive\",\"rationale\":\"Expresses approval\"}}'},\n",
    "    {\"text\": \"This is a terrible experience.\", \"output_json\": '{{\"label\":\"Negative\",\"rationale\":\"States terrible\"}}'},\n",
    "    {\"text\": \"Not bad for a budget phone.\", \"output_json\": '{{\"label\":\"Positive\",\"rationale\":\"Negation implies acceptable\"}}'}\n",
    "]\n",
    "\n",
    "prefix = \"\"\"You are a concise sentiment analyst.\n",
    "Decide whether the sentiment is \"Positive\" or \"Negative\".\n",
    "Respond only with JSON: {{\"label\":\"...\",\"rationale\":\"...\"}}.\n",
    "\n",
    "Here are examples:\n",
    "\"\"\"\n",
    "\n",
    "suffix = \"\"\"Now classify the sentiment for the following input.\n",
    "Input: {user_text}\n",
    "Output:\"\"\"\n",
    "\n",
    "fs_template = FewShotPromptTemplate(\n",
    "    examples=examples,\n",
    "    example_prompt=example_prompt,\n",
    "    prefix=prefix,\n",
    "    suffix=suffix,\n",
    "    input_variables=[\"user_text\"],\n",
    "    example_separator=\"\\n---\\n\",\n",
    ")"
   ]
  },
  {
   "cell_type": "code",
   "execution_count": 22,
   "id": "34ed80b5",
   "metadata": {},
   "outputs": [
    {
     "name": "stdout",
     "output_type": "stream",
     "text": [
      "You are a concise sentiment analyst.\n",
      "Decide whether the sentiment is \"Positive\" or \"Negative\".\n",
      "Respond only with JSON: {\"label\":\"...\",\"rationale\":\"...\"}.\n",
      "\n",
      "Here are examples:\n",
      "\n",
      "---\n",
      "Input: I love the new update!\n",
      "Output: {\"label\":\"Positive\",\"rationale\":\"Expresses approval\"}\n",
      "---\n",
      "Input: This is a terrible experience.\n",
      "Output: {\"label\":\"Negative\",\"rationale\":\"States terrible\"}\n",
      "---\n",
      "Input: Not bad for a budget phone.\n",
      "Output: {\"label\":\"Positive\",\"rationale\":\"Negation implies acceptable\"}\n",
      "---\n",
      "Now classify the sentiment for the following input.\n",
      "Input: Dancing in the rain is fun!\n",
      "Output:\n"
     ]
    }
   ],
   "source": [
    "print(fs_template.invoke({\"user_text\": \"Dancing in the rain is fun!\"}).text)"
   ]
  },
  {
   "cell_type": "code",
   "execution_count": 28,
   "id": "11a172d2",
   "metadata": {},
   "outputs": [],
   "source": [
    "chain = fs_template | llm"
   ]
  },
  {
   "cell_type": "code",
   "execution_count": 29,
   "id": "f7fb153b",
   "metadata": {},
   "outputs": [],
   "source": [
    "\n",
    "def few_shot_classify(text: str):\n",
    "    raw = chain.invoke({\"user_text\": text}).content\n",
    "    try:\n",
    "        return json.loads(raw)\n",
    "    except Exception:\n",
    "        return {\"label\": \"Unknown\", \"rationale\": raw}\n"
   ]
  },
  {
   "cell_type": "markdown",
   "id": "ad67a3f6",
   "metadata": {},
   "source": [
    "### Compare on trickier inputs"
   ]
  },
  {
   "cell_type": "code",
   "execution_count": 30,
   "id": "5ed2ec4a",
   "metadata": {},
   "outputs": [
    {
     "name": "stdout",
     "output_type": "stream",
     "text": [
      "\n",
      "INPUT: I hate to admit it, but this is actually pretty good.\n",
      "{\n",
      "  \"label\": \"Positive\",\n",
      "  \"rationale\": \"Contradiction indicates a positive surprise despite initial negativity\"\n",
      "}\n",
      "\n",
      "INPUT: The camera is fine, but the battery life is awful.\n",
      "{\n",
      "  \"label\": \"Negative\",\n",
      "  \"rationale\": \"Highlights a significant issue with battery life despite a neutral comment on the camera\"\n",
      "}\n",
      "\n",
      "INPUT: I can't say it's bad.\n",
      "{\n",
      "  \"label\": \"Positive\",\n",
      "  \"rationale\": \"Negation implies a positive assessment\"\n",
      "}\n"
     ]
    }
   ],
   "source": [
    "\n",
    "tricky = [\n",
    "    \"I hate to admit it, but this is actually pretty good.\",\n",
    "    \"The camera is fine, but the battery life is awful.\",\n",
    "    \"I can't say it's bad.\"\n",
    "]\n",
    "for s in tricky:\n",
    "    print(\"\\nINPUT:\", s)\n",
    "    print(json.dumps(few_shot_classify(s), indent=2))\n"
   ]
  },
  {
   "cell_type": "markdown",
   "id": "32a1b609",
   "metadata": {},
   "source": [
    "### Try your own"
   ]
  },
  {
   "cell_type": "code",
   "execution_count": null,
   "id": "b2d6a015",
   "metadata": {},
   "outputs": [],
   "source": [
    "\n",
    "my_text = \"Type here\"\n",
    "print(json.dumps(few_shot_classify(my_text), indent=2))\n"
   ]
  }
 ],
 "metadata": {
  "kernelspec": {
   "display_name": ".venv",
   "language": "python",
   "name": "python3"
  },
  "language_info": {
   "codemirror_mode": {
    "name": "ipython",
    "version": 3
   },
   "file_extension": ".py",
   "mimetype": "text/x-python",
   "name": "python",
   "nbconvert_exporter": "python",
   "pygments_lexer": "ipython3",
   "version": "3.10.18"
  }
 },
 "nbformat": 4,
 "nbformat_minor": 5
}
