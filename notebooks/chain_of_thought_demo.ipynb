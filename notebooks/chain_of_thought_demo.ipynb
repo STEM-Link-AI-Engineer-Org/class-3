{
 "cells": [
  {
   "cell_type": "markdown",
   "id": "b398b4ee",
   "metadata": {},
   "source": [
    "\n",
    "# Chain-of-Thought Variants\n",
    "\n",
    "We compare three CoT approaches:\n",
    "\n",
    "1. **Few-shot CoT (Human-crafted examples):** Supply solved examples with reasoning.\n",
    "2. **Zero-shot CoT:** Add *\"Let's think step by step\"* to the prompt.\n",
    "3. **Auto-CoT:** Ask the LLM to generate reasoning examples for similar questions, then use them as few-shot CoT.\n",
    "\n",
    "> Based on [LearnPrompting: Automatic Chain of Thought](https://learnprompting.org/docs/advanced/thought_generation/automatic_chain_of_thought)\n"
   ]
  },
  {
   "cell_type": "code",
   "execution_count": 6,
   "id": "d9d8fd94",
   "metadata": {},
   "outputs": [],
   "source": [
    "\n",
    "from langchain_openai import ChatOpenAI\n",
    "from langchain_core.prompts import PromptTemplate, FewShotPromptTemplate\n",
    "\n",
    "llm = ChatOpenAI(model=\"gpt-4o-mini\", temperature=0.2)\n"
   ]
  },
  {
   "cell_type": "markdown",
   "id": "939033b4",
   "metadata": {},
   "source": [
    "## 1. Few-shot CoT (human-crafted examples)"
   ]
  },
  {
   "cell_type": "code",
   "execution_count": 7,
   "id": "ed2074b7",
   "metadata": {},
   "outputs": [],
   "source": [
    "example_prompt = PromptTemplate.from_template(\n",
    "    \"\"\"Question: {q}\n",
    "Reasoning: {r}\n",
    "Final answer: {a}\n",
    "\"\"\"\n",
    ")\n",
    "\n",
    "examples = [\n",
    "    {\n",
    "        \"q\": \"If you have 2 apples and buy 3 more, how many total?\",\n",
    "        \"r\": \"Start with 2, add 3, gives 5.\",\n",
    "        \"a\": \"5\",\n",
    "    },\n",
    "    {\n",
    "        \"q\": \"Tom has 5 pens, gives away 2, then buys 1 more. How many now?\",\n",
    "        \"r\": \"5-2=3, plus 1 = 4.\",\n",
    "        \"a\": \"4\",\n",
    "    },\n",
    "]\n",
    "\n",
    "fs_template = FewShotPromptTemplate(\n",
    "    examples=examples,\n",
    "    example_prompt=example_prompt,\n",
    "    suffix=\"Question: {user_q}\\nReasoning:\",\n",
    "    input_variables=[\"user_q\"],\n",
    ")\n",
    "\n",
    "\n",
    "def few_shot_cot(q: str):\n",
    "    return (fs_template | llm).invoke({\"user_q\": q}).content"
   ]
  },
  {
   "cell_type": "code",
   "execution_count": 10,
   "id": "fc5ffa95",
   "metadata": {},
   "outputs": [
    {
     "name": "stdout",
     "output_type": "stream",
     "text": [
      "Question: If you have 2 apples and buy 3 more, how many total?\n",
      "Reasoning: Start with 2, add 3, gives 5.\n",
      "Final answer: 5\n",
      "\n",
      "\n",
      "Question: Tom has 5 pens, gives away 2, then buys 1 more. How many now?\n",
      "Reasoning: 5-2=3, plus 1 = 4.\n",
      "Final answer: 4\n",
      "\n",
      "\n",
      "Question: test\n",
      "Reasoning:\n"
     ]
    }
   ],
   "source": [
    "print(fs_template.invoke({\"user_q\": \"test\"}).text)"
   ]
  },
  {
   "cell_type": "code",
   "execution_count": 8,
   "id": "cb366d24",
   "metadata": {},
   "outputs": [
    {
     "name": "stdout",
     "output_type": "stream",
     "text": [
      "Start with 4, add 2 to get 6, then subtract 1 for the eaten orange, which gives 5.  \n",
      "Final answer: 5\n"
     ]
    }
   ],
   "source": [
    "\n",
    "q1 = \"Alice had 4 oranges, bought 2 more, then ate 1. How many left?\"\n",
    "print(few_shot_cot(q1))\n"
   ]
  },
  {
   "cell_type": "markdown",
   "id": "e04cd62d",
   "metadata": {},
   "source": [
    "## 2. Zero-shot CoT"
   ]
  },
  {
   "cell_type": "code",
   "execution_count": 11,
   "id": "d3b0b8ae",
   "metadata": {},
   "outputs": [
    {
     "name": "stdout",
     "output_type": "stream",
     "text": [
      "To find out how far the train travels, we can use the formula for distance:\n",
      "\n",
      "\\[\n",
      "\\text{Distance} = \\text{Speed} \\times \\text{Time}\n",
      "\\]\n",
      "\n",
      "1. **Identify the speed of the train**: The train moves at a speed of 50 km/h.\n",
      "2. **Identify the time the train travels**: The train travels for 2 hours.\n",
      "3. **Plug the values into the formula**:\n",
      "\n",
      "\\[\n",
      "\\text{Distance} = 50 \\, \\text{km/h} \\times 2 \\, \\text{hours}\n",
      "\\]\n",
      "\n",
      "4. **Calculate the distance**:\n",
      "\n",
      "\\[\n",
      "\\text{Distance} = 100 \\, \\text{km}\n",
      "\\]\n",
      "\n",
      "Therefore, the train travels **100 kilometers**.\n"
     ]
    }
   ],
   "source": [
    "\n",
    "zs_cot_tpl = PromptTemplate.from_template(\n",
    "    \"\"\"Answer the following question. Let's think step by step.\n",
    "\n",
    "Question: {q}\n",
    "Reasoning:\"\"\"\n",
    ")\n",
    "\n",
    "def zero_shot_cot(q: str):\n",
    "    return (zs_cot_tpl | llm).invoke({\"q\": q}).content\n",
    "\n",
    "q2 = \"A train moves at 50 km/h for 2 hours. How far does it travel?\"\n",
    "print(zero_shot_cot(q2))\n"
   ]
  },
  {
   "cell_type": "markdown",
   "id": "3fa3c84e",
   "metadata": {},
   "source": [
    "## 3. Auto-CoT (LLM generates examples, then apply)"
   ]
  },
  {
   "cell_type": "code",
   "execution_count": 18,
   "id": "948650b1",
   "metadata": {},
   "outputs": [
    {
     "name": "stdout",
     "output_type": "stream",
     "text": [
      "Generated Examples:\n",
      " [\n",
      "    {\n",
      "        \"q\": \"A farmer has 120 apples. He wants to pack them into boxes that can hold 15 apples each. How many boxes will he need?\",\n",
      "        \"r\": \"To find out how many boxes are needed, divide the total number of apples by the number of apples each box can hold. 120 apples ÷ 15 apples/box = 8 boxes.\",\n",
      "        \"a\": \"8\"\n",
      "    },\n",
      "    {\n",
      "        \"q\": \"A school has 250 students. If 40% of the students are in the 6th grade, how many students are in the 6th grade?\",\n",
      "        \"r\": \"To find the number of 6th grade students, calculate 40% of 250. This can be done by multiplying 250 by 0.40. 250 × 0.40 = 100 students.\",\n",
      "        \"a\": \"100\"\n",
      "    },\n",
      "    {\n",
      "        \"q\": \"A car travels 60 miles per hour. How far will it travel in 3 hours?\",\n",
      "        \"r\": \"To find the distance traveled, multiply the speed of the car by the time traveled. 60 miles/hour × 3 hours = 180 miles.\",\n",
      "        \"a\": \"180\"\n",
      "    }\n",
      "]\n"
     ]
    }
   ],
   "source": [
    "\n",
    "# Step 1: Generate reasoning examples automatically for similar tasks\n",
    "gen_tpl = PromptTemplate.from_template(\n",
    "    \"\"\"Generate 3 examples of math word problems with reasoning and final answer.\n",
    "\n",
    "Format:\n",
    "[{{\n",
    "    \"q\": \"...\",\n",
    "    \"r\": \"...\",\n",
    "    \"a\": \"...\"\n",
    "}},\n",
    "...]\"\"\")\n",
    "\n",
    "generated = (gen_tpl | llm).invoke({}).content\n",
    "print(\"Generated Examples:\\n\", generated)\n"
   ]
  },
  {
   "cell_type": "code",
   "execution_count": 21,
   "id": "718e151f",
   "metadata": {},
   "outputs": [
    {
     "name": "stdout",
     "output_type": "stream",
     "text": [
      "To find out how many cookies John has now, start with the number of cookies he initially had, subtract the number he gave away, and then add the number he bought. \n",
      "\n",
      "1. Start with 12 cookies.\n",
      "2. Subtract the 5 cookies he gave to friends: 12 - 5 = 7 cookies.\n",
      "3. Add the 3 cookies he bought: 7 + 3 = 10 cookies.\n",
      "\n",
      "Final answer: 10\n"
     ]
    }
   ],
   "source": [
    "# Step 2: Use generated examples as few-shot CoT for a new question\n",
    "\n",
    "auto_examples = [\n",
    "    {\n",
    "        \"q\": \"A farmer has 120 apples. He wants to pack them into boxes that can hold 15 apples each. How many boxes will he need?\",\n",
    "        \"r\": \"To find out how many boxes are needed, divide the total number of apples by the number of apples each box can hold. 120 apples ÷ 15 apples/box = 8 boxes.\",\n",
    "        \"a\": \"8\",\n",
    "    },\n",
    "    {\n",
    "        \"q\": \"A school has 250 students. If 40% of the students are in the 6th grade, how many students are in the 6th grade?\",\n",
    "        \"r\": \"To find the number of 6th grade students, calculate 40% of 250. This can be done by multiplying 250 by 0.40. 250 × 0.40 = 100 students.\",\n",
    "        \"a\": \"100\",\n",
    "    },\n",
    "    {\n",
    "        \"q\": \"A car travels 60 miles per hour. How far will it travel in 3 hours?\",\n",
    "        \"r\": \"To find the distance traveled, multiply the speed of the car by the time traveled. 60 miles/hour × 3 hours = 180 miles.\",\n",
    "        \"a\": \"180\",\n",
    "    },\n",
    "]\n",
    "\n",
    "auto_template = FewShotPromptTemplate(\n",
    "    examples=auto_examples,\n",
    "    example_prompt=example_prompt,\n",
    "    suffix=\"Question: {user_q}\\nReasoning:\",\n",
    "    input_variables=[\"user_q\"],\n",
    ")\n",
    "\n",
    "\n",
    "def auto_cot(q: str):\n",
    "    return (auto_template | llm).invoke({\"user_q\": q}).content\n",
    "\n",
    "\n",
    "q3 = \"John had 12 cookies, gave 5 to friends, then bought 3 more. How many now?\"\n",
    "print(auto_cot(q3))"
   ]
  }
 ],
 "metadata": {
  "language_info": {
   "name": "python"
  }
 },
 "nbformat": 4,
 "nbformat_minor": 5
}
