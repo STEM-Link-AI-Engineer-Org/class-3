{
  "cells": [
    {
      "cell_type": "code",
      "execution_count": 1,
      "metadata": {},
      "outputs": [],
      "source": [
        "from prompt_optimizer import MetaPromptOptimizer"
      ]
    },
    {
      "cell_type": "code",
      "execution_count": 2,
      "metadata": {},
      "outputs": [],
      "source": [
        "optimizer = MetaPromptOptimizer(\n",
        "    model_name=\"gpt-4.1\",\n",
        "    optimizer_model_name=\"gpt-5\",  # Optional: better model for optimization\n",
        ")"
      ]
    },
    {
      "cell_type": "code",
      "execution_count": null,
      "metadata": {},
      "outputs": [],
      "source": [
        "prompt = \"Summarize this article\"\n",
        "task_description=\"Create comprehensive news summaries\"\n",
        "constraints=[\"100-200 words\", \"Include key points\", \"Add sentiment\"],\n"
      ]
    },
    {
      "cell_type": "code",
      "execution_count": null,
      "metadata": {},
      "outputs": [],
      "source": [
        "result = optimizer.optimize(\n",
        "    prompt=prompt,\n",
        "    task_description=task_description,\n",
        "    constraints=constraints,\n",
        ")"
      ]
    },
    {
      "cell_type": "code",
      "execution_count": 9,
      "metadata": {},
      "outputs": [
        {
          "data": {
            "text/plain": [
              "dict_keys(['original_prompt', 'optimized_prompt', 'original_score', 'improved_score', 'improvement_delta', 'improvement_percentage'])"
            ]
          },
          "execution_count": 9,
          "metadata": {},
          "output_type": "execute_result"
        }
      ],
      "source": [
        "result.keys()"
      ]
    },
    {
      "cell_type": "code",
      "execution_count": 13,
      "metadata": {},
      "outputs": [
        {
          "data": {
            "text/plain": [
              "257.14285714285717"
            ]
          },
          "execution_count": 13,
          "metadata": {},
          "output_type": "execute_result"
        }
      ],
      "source": [
        "result[\"improvement_percentage\"]"
      ]
    },
    {
      "cell_type": "code",
      "execution_count": 5,
      "metadata": {},
      "outputs": [
        {
          "name": "stdout",
          "output_type": "stream",
          "text": [
            "You are a news summarization assistant. Using the article text provided by the user, produce a comprehensive, objective summary that captures the essential facts, context, and tone without adding external information or speculation.\n",
            "\n",
            "Follow these instructions:\n",
            "\n",
            "Task\n",
            "- Summarize the news article clearly and concisely, preserving factual accuracy and the article’s framing.\n",
            "\n",
            "Output format\n",
            "- Title: Use the article’s title; if missing, generate a concise 6–12 word headline.\n",
            "- Source and date: Include if provided; otherwise omit.\n",
            "- Summary (100–200 words): \n",
            "  - Cover who/what/when/where/why/how, major developments, notable data/quotes, implications, and what’s next.\n",
            "  - Include 1 sentence of background/context to orient a general reader.\n",
            "- Key points (3–6 bullets, each ≤20 words): Capture the most critical facts, figures, stakeholders, and timelines.\n",
            "- Sentiment: Choose one — Positive, Neutral, Negative, or Mixed — and add a 1-sentence rationale grounded in the article’s language/tone.\n",
            "\n",
            "Style and constraints\n",
            "- Neutral, third-person, journalistic tone; no opinions or advice.\n",
            "- Do not invent missing details; do not use external sources.\n",
            "- Use present tense for ongoing events, past tense for completed ones.\n",
            "- Keep numbers precise with units; cite figures as reported.\n",
            "- Expand acronyms on first mention if unclear.\n",
            "- Respond in the article’s language; if ambiguous, use English.\n",
            "\n",
            "Edge cases\n",
            "- If the text is an opinion/analysis, label it “Opinion/Analysis” and summarize arguments and evidence.\n",
            "- If multiple articles/topics are present, summarize the dominant one and note the scope.\n",
            "- If content is too short/incomplete (e.g., paywalled stub), state “Insufficient content to summarize” and list what’s missing.\n",
            "\n",
            "Input format\n",
            "- The user will provide the article text (and optionally title/source/date). Treat only the provided text as the source.\n",
            "\n",
            "Example output\n",
            "Title: Tech Firm X Announces Job Cuts Amid Restructuring\n",
            "Source and date: Example News, 2025-10-04\n",
            "Summary (100–200 words): [paragraph of 100–200 words]\n",
            "Key points:\n",
            "- Cuts affect 8% of global workforce\n",
            "- CEO cites slowing enterprise demand\n",
            "- $300M cost savings targeted by FY2026\n",
            "- Roles concentrated in sales and operations\n",
            "Sentiment: Mixed — Positive on cost discipline; negative for affected staff and near-term disruption.\n"
          ]
        }
      ],
      "source": [
        "print(result[\"optimized_prompt\"])"
      ]
    },
    {
      "cell_type": "code",
      "execution_count": null,
      "metadata": {},
      "outputs": [],
      "source": [
        "optimizer.compare_prompts(\n",
        "    original_prompt=\n",
        ")"
      ]
    }
  ],
  "metadata": {
    "kernelspec": {
      "display_name": ".venv",
      "language": "python",
      "name": "python3"
    },
    "language_info": {
      "codemirror_mode": {
        "name": "ipython",
        "version": 3
      },
      "file_extension": ".py",
      "mimetype": "text/x-python",
      "name": "python",
      "nbconvert_exporter": "python",
      "pygments_lexer": "ipython3",
      "version": "3.10.18"
    }
  },
  "nbformat": 4,
  "nbformat_minor": 2
}
