{
 "cells": [
  {
   "cell_type": "markdown",
   "id": "c7eb7933",
   "metadata": {},
   "source": [
    "\n",
    "# Zero-Shot Prompting — MVP (Sentiment Classification)\n",
    "\n",
    "**Goal:** Classify sentiment using a single instruction (no examples).  \n",
    "Assumes `OPENAI_API_KEY` is set.\n"
   ]
  },
  {
   "cell_type": "code",
   "execution_count": 6,
   "id": "99ffeb9a",
   "metadata": {},
   "outputs": [],
   "source": [
    "\n",
    "from langchain_openai import ChatOpenAI\n",
    "from langchain_core.prompts import PromptTemplate\n",
    "import json\n",
    "\n",
    "llm = ChatOpenAI(model=\"gpt-4o-mini\", temperature=0.0)\n",
    "\n",
    "template = PromptTemplate.from_template(\n",
    "    \"\"\"You are a concise sentiment analyst.\n",
    "Classify the sentiment of the user's input as \"Positive\" or \"Negative\".\n",
    "Return **only** JSON: {{\"label\": \"...\", \"rationale\": \"...\"}}\n",
    "\n",
    "User input:\n",
    "{user_text}\n",
    "\"\"\")\n"
   ]
  },
  {
   "cell_type": "code",
   "execution_count": 7,
   "id": "96a7f01a",
   "metadata": {},
   "outputs": [],
   "source": [
    "chain = template | llm"
   ]
  },
  {
   "cell_type": "code",
   "execution_count": 8,
   "id": "ba527e42",
   "metadata": {},
   "outputs": [],
   "source": [
    "\n",
    "def zero_shot_classify(text: str):\n",
    "    raw = chain.invoke({\"user_text\": text}).content\n",
    "    try:\n",
    "        return json.loads(raw)\n",
    "    except Exception:\n",
    "        return {\"label\": \"Unknown\", \"rationale\": raw}\n"
   ]
  },
  {
   "cell_type": "markdown",
   "id": "9d495841",
   "metadata": {},
   "source": [
    "### Quick test on a few inputs"
   ]
  },
  {
   "cell_type": "code",
   "execution_count": 9,
   "id": "d3e726d7",
   "metadata": {},
   "outputs": [
    {
     "name": "stdout",
     "output_type": "stream",
     "text": [
      "\n",
      "INPUT: I absolutely love this phone!\n",
      "{\n",
      "  \"label\": \"Positive\",\n",
      "  \"rationale\": \"The phrase 'absolutely love' indicates strong positive feelings towards the phone.\"\n",
      "}\n",
      "\n",
      "INPUT: This is the worst service ever.\n",
      "{\n",
      "  \"label\": \"Negative\",\n",
      "  \"rationale\": \"The phrase 'the worst service ever' expresses strong dissatisfaction.\"\n",
      "}\n",
      "\n",
      "INPUT: Not bad for a budget device.\n",
      "{\n",
      "  \"label\": \"Positive\",\n",
      "  \"rationale\": \"The phrase 'Not bad' suggests a favorable opinion, indicating that the budget device meets or exceeds expectations.\"\n",
      "}\n",
      "\n",
      "INPUT: Great screen but I hate the lag.\n",
      "{\n",
      "  \"label\": \"Negative\",\n",
      "  \"rationale\": \"The user expresses a positive sentiment about the screen but contrasts it with a negative feeling about the lag.\"\n",
      "}\n"
     ]
    }
   ],
   "source": [
    "\n",
    "examples = [\n",
    "    \"I absolutely love this phone!\",\n",
    "    \"This is the worst service ever.\",\n",
    "    \"Not bad for a budget device.\",\n",
    "    \"Great screen but I hate the lag.\"\n",
    "]\n",
    "for s in examples:\n",
    "    print(\"\\nINPUT:\", s)\n",
    "    print(json.dumps(zero_shot_classify(s), indent=2))\n"
   ]
  },
  {
   "cell_type": "markdown",
   "id": "658ebbff",
   "metadata": {},
   "source": [
    "### Try your own"
   ]
  },
  {
   "cell_type": "code",
   "execution_count": null,
   "id": "fde87262",
   "metadata": {},
   "outputs": [],
   "source": [
    "\n",
    "# Edit the text and re-run\n",
    "my_text = \"Type here\"\n",
    "print(json.dumps(zero_shot_classify(my_text), indent=2))\n"
   ]
  }
 ],
 "metadata": {
  "kernelspec": {
   "display_name": ".venv",
   "language": "python",
   "name": "python3"
  },
  "language_info": {
   "codemirror_mode": {
    "name": "ipython",
    "version": 3
   },
   "file_extension": ".py",
   "mimetype": "text/x-python",
   "name": "python",
   "nbconvert_exporter": "python",
   "pygments_lexer": "ipython3",
   "version": "3.10.18"
  }
 },
 "nbformat": 4,
 "nbformat_minor": 5
}
